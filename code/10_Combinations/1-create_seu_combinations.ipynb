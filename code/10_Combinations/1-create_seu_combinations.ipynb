{
 "cells": [
  {
   "cell_type": "code",
   "execution_count": 1,
   "id": "da5d5c9c",
   "metadata": {
    "vscode": {
     "languageId": "r"
    }
   },
   "outputs": [
    {
     "name": "stderr",
     "output_type": "stream",
     "text": [
      "Loading required package: SeuratObject\n",
      "\n",
      "Loading required package: sp\n",
      "\n",
      "Loading required package: sp\n",
      "\n",
      "\n",
      "Attaching package: ‘SeuratObject’\n",
      "\n",
      "\n",
      "The following objects are masked from ‘package:base’:\n",
      "\n",
      "    intersect, t\n",
      "\n",
      "\n",
      "Warning message:\n",
      "“package ‘tidyverse’ was built under R version 4.3.3”\n",
      "── \u001b[1mAttaching core tidyverse packages\u001b[22m ──────────────────────── tidyverse 2.0.0 ──\n",
      "\u001b[32m✔\u001b[39m \u001b[34mdplyr    \u001b[39m 1.1.3     \u001b[32m✔\u001b[39m \u001b[34mreadr    \u001b[39m 2.1.4\n",
      "\u001b[32m✔\u001b[39m \u001b[34mforcats  \u001b[39m 1.0.0     \u001b[32m✔\u001b[39m \u001b[34mstringr  \u001b[39m 1.5.1\n",
      "\u001b[32m✔\u001b[39m \u001b[34mggplot2  \u001b[39m 3.5.2     \u001b[32m✔\u001b[39m \u001b[34mtibble   \u001b[39m 3.2.1\n",
      "\u001b[32m✔\u001b[39m \u001b[34mlubridate\u001b[39m 1.9.3     \u001b[32m✔\u001b[39m \u001b[34mtidyr    \u001b[39m 1.3.0\n",
      "\u001b[32m✔\u001b[39m \u001b[34mpurrr    \u001b[39m 1.0.2     \n",
      "── \u001b[1mConflicts\u001b[22m ────────────────────────────────────────── tidyverse_conflicts() ──\n",
      "\u001b[31m✖\u001b[39m \u001b[34mdplyr\u001b[39m::\u001b[32mfilter()\u001b[39m masks \u001b[34mstats\u001b[39m::filter()\n",
      "\u001b[31m✖\u001b[39m \u001b[34mdplyr\u001b[39m::\u001b[32mlag()\u001b[39m    masks \u001b[34mstats\u001b[39m::lag()\n",
      "\u001b[36mℹ\u001b[39m Use the conflicted package (\u001b[3m\u001b[34m<http://conflicted.r-lib.org/>\u001b[39m\u001b[23m) to force all conflicts to become errors\n",
      "Loading required package: limma\n",
      "\n"
     ]
    }
   ],
   "source": [
    "### Author: Wouter\n",
    "### Datasets: Single cell RNA-seq from TF-seq EXP12-13\n",
    "### Goal: Create separate seurat objects for each combination\n",
    "\n",
    "library(Seurat)\n",
    "library(tidyverse)\n",
    "library(edgeR)\n",
    "\n",
    "source(\"functions-combinations.R\")\n",
    "source(\"functions-diffexp.R\")\n",
    "\n",
    "output_folder <- file.path(\"output\")"
   ]
  },
  {
   "cell_type": "code",
   "execution_count": 2,
   "id": "3269cd11",
   "metadata": {
    "vscode": {
     "languageId": "r"
    }
   },
   "outputs": [
    {
     "name": "stdout",
     "output_type": "stream",
     "text": [
      "[1] 334\n",
      "[1] 334\n",
      "[1] 1110\n",
      "[1] 1111\n",
      "[1] 354\n",
      "[1] 317\n",
      "[1] 1174\n",
      "[1] 1190\n",
      "[1] 399\n",
      "[1] 396\n",
      "[1] 66\n",
      "[1] 51\n",
      "[1] 294\n",
      "[1] 295\n",
      "[1] 0\n",
      "[1] 0\n",
      "[1] 175\n",
      "[1] 172\n",
      "[1] 1110\n",
      "[1] 1111\n",
      "[1] 1143\n",
      "[1] 1144\n",
      "[1] 1174\n",
      "[1] 1190\n"
     ]
    }
   ],
   "source": [
    "seu <- read_rds(file.path(output_folder, \"seu.rds\"))\n",
    "\n",
    "bc_tf_resetters <- list(\n",
    "  c(\"Mycn\", \"Myog\"),\n",
    "  c(\"Mycn-1\", \"Myog\"),\n",
    "  c(\"Mycn-2\", \"Myog\"),\n",
    "  c(\"Mycn-4\", \"Myog\"),\n",
    "  \n",
    "  c(\"Cebpa-1\", \"Myog\"),\n",
    "  c(\"Cebpa-4\", \"Myog\"),\n",
    "  \n",
    "  c(\"Pparg-G6\", \"Runx2\"),\n",
    "  \n",
    "  c(\"Cebpa-A6\", \"Pparg\"),\n",
    "  c(\"Cebpa\", \"Pparg\"),\n",
    "  \n",
    "  c(\"Mycn-1\", \"Runx2\"),\n",
    "  c(\"Mycn-3\", \"Runx2\"),\n",
    "  c(\"Mycn-4\", \"Runx2\")\n",
    ")\n",
    "\n",
    "for (bc_tf_resetter in bc_tf_resetters) {\n",
    "  bc <- bc_tf_resetter[[1]]\n",
    "  tf <- bc_tf_resetter[[2]]\n",
    "  cells_oi <- rownames(seu@assays$bcreads)[apply(seu@assays$bcreads@counts, 2, which.max)] == bc\n",
    "  print(sum(cells_oi))\n",
    "  if (sum(cells_oi) > 0) {\n",
    "    seu@assays$oereads@counts[tf, cells_oi] <- 0.\n",
    "  }\n",
    "  cells_oi <- rownames(seu@assays$bcumi)[apply(seu@assays$bcumi@counts, 2, which.max)] == bc\n",
    "  print(sum(cells_oi))\n",
    "  if (sum(cells_oi) > 0) {\n",
    "    seu@assays$oeumi@counts[tf, cells_oi] <- 0.\n",
    "  }\n",
    "}"
   ]
  },
  {
   "cell_type": "code",
   "execution_count": 3,
   "id": "5fea1268",
   "metadata": {
    "vscode": {
     "languageId": "r"
    }
   },
   "outputs": [],
   "source": [
    "diffexp_folder <- file.path(output_folder, \"diffexp\")\n",
    "if (!dir.exists(diffexp_folder)) {\n",
    "  dir.create(diffexp_folder, recursive = TRUE)\n",
    "}"
   ]
  },
  {
   "cell_type": "code",
   "execution_count": 4,
   "id": "37dee76a",
   "metadata": {
    "vscode": {
     "languageId": "r"
    }
   },
   "outputs": [],
   "source": [
    "## Prepare differential objects\n",
    "prepare_data <- function(combination, seu) {\n",
    "\n",
    "    diffexp <- read_rds(file.path(diffexp_folder, paste0(combination[[1]], \"_\", combination[[2]], \".rds\")))\n",
    "  TFsoi <- combination\n",
    "  seu_diffexp <- seu[, seu@meta.data %>% filter(TF %in% c(TFsoi[[1]], TFsoi[[2]], \"D0\", paste0(TFsoi[[1]], \"-\", TFsoi[[2]]), paste0(TFsoi[[2]], \"-\", TFsoi[[1]]))) %>% pull(cell)]\n",
    "  \n",
    "  seu_diffexp$vector1 <- seu@assays[[\"oeumi\"]]@counts[TFsoi[[1]],]\n",
    "  seu_diffexp$vector2 <- seu@assays[[\"oeumi\"]]@counts[TFsoi[[2]],]\n",
    "  \n",
    "  seu_diffexp$logvector1 <- log1p(seu_diffexp$vector1)\n",
    "  seu_diffexp$logvector2 <- log1p(seu_diffexp$vector2)\n",
    "  \n",
    "  seu_diffexp$readvector1 <- seu@assays[[\"oereads\"]]@counts[TFsoi[[1]],]\n",
    "  seu_diffexp$readvector2 <- seu@assays[[\"oereads\"]]@counts[TFsoi[[2]],]\n",
    "  \n",
    "  seu_diffexp$logreadvector1 <- log1p(seu_diffexp$readvector1)\n",
    "  seu_diffexp$logreadvector2 <- log1p(seu_diffexp$readvector2)\n",
    "  \n",
    "  adipo.markers <-  c(\"Fabp4\", \"Lpl\", \"Pparg\", \"Lipe\", \"Adipoq\", \"Cd36\",\n",
    "                      \"Plin4\", \"Plin2\", \"Plin1\", \"Cebpa\", \"Cebpb\",\n",
    "                      \"Cidec\", \"Cidea\")\n",
    "data_annot <- seu_diffexp@assays$RNA@meta.features\n",
    "  adipo.markers <-  data_annot[data_annot$symbol %in% adipo.markers ,\"gene\"]\n",
    "  DefaultAssay(seu_diffexp) <- \"RNA\"\n",
    "  seu_diffexp <- AddModuleScore(seu_diffexp, features = list(adipo = adipo.markers), name = \"adiposcore\")\n",
    "  \n",
    "  genes_oi <- diffexp %>% filter(logFC_2 > 0.1) %>% filter(FDR_2 < 0.05) %>% filter((logFC_1 < 0.1) & (logFC_1 > -0.1)) %>% pull(gene)\n",
    "  seu_diffexp <- AddModuleScore(seu_diffexp, features = list(a = genes_oi), name = paste0(combination[[1]], \"_unique\"))\n",
    "  genes_oi <- diffexp %>% filter(logFC_2 > 0.1) %>% filter(FDR_2 < 0.05) %>% pull(gene)\n",
    "  seu_diffexp <- AddModuleScore(seu_diffexp, features = list(a = genes_oi), name = combination[[1]])\n",
    "  \n",
    "  genes_oi <- diffexp %>% filter(logFC_1 > 0.1) %>% filter(FDR_1 < 0.05) %>% filter((logFC_2 < 0.1) & (logFC_2 > -0.1)) %>% pull(gene)\n",
    "  seu_diffexp <- AddModuleScore(seu_diffexp, features = list(a = genes_oi), name = paste0(combination[[2]], \"_unique\"))\n",
    "  genes_oi <- diffexp %>% filter(logFC_1 > 0.1) %>% filter(FDR_1 < 0.05) %>% pull(gene)\n",
    "  seu_diffexp <- AddModuleScore(seu_diffexp, features = list(a = genes_oi), name = combination[[2]])\n",
    "  \n",
    "  bins1 <- c(0, seq(0.001, max(seu_diffexp@meta.data$logvector1)+0.1, length.out = 5))\n",
    "  bins2 <- c(0, seq(0.001, max(seu_diffexp@meta.data$logvector2)+0.1, length.out = 5))\n",
    "  \n",
    "  seu_diffexp@meta.data$bin1 <- cut(seu_diffexp$logvector1, bins1, right = FALSE)\n",
    "  seu_diffexp@meta.data$bin2 <- cut(seu_diffexp$logvector2, bins2, right = FALSE)\n",
    "  \n",
    "  bin_info1 <- data.frame(\n",
    "    name = levels(seu_diffexp$bin1),\n",
    "    label = c(0, round(bins1[2:(length(bins1)-1)] + (bins1[3:length(bins1)] - bins1[2:(length(bins1)-1)])/2, 1))\n",
    "  )\n",
    "  bin_info2 <- data.frame(\n",
    "    name = levels(seu_diffexp$bin2),\n",
    "    label = c(0, round(bins2[2:(length(bins2)-1)] + (bins2[3:length(bins2)] - bins2[2:(length(bins2)-1)])/2, 1))\n",
    "  )\n",
    "  seu_diffexp@misc$bin_info1 <- bin_info1\n",
    "  seu_diffexp@misc$bin_info2 <- bin_info2\n",
    "  \n",
    "  # add conditions\n",
    "  conditions_oi <- c(\"D0\", combination[[1]], combination[[2]], paste0(combination[[1]], \"-\", combination[[2]]))\n",
    "  \n",
    "  seu_diffexp@meta.data$condition <- \"D0\"\n",
    "  cells_oi <- (seu_diffexp$readvector1 >= 5)\n",
    "  seu_diffexp@meta.data[cells_oi, \"condition\"] <- conditions_oi[[2]]\n",
    "  cells_oi <- (seu_diffexp$readvector2 >= 5)\n",
    "  seu_diffexp@meta.data[cells_oi, \"condition\"] <- conditions_oi[[3]]\n",
    "  cells_oi <- (seu_diffexp$readvector1 >= 5) & (seu_diffexp$readvector2 >= 5)\n",
    "  seu_diffexp@meta.data[cells_oi, \"condition\"] <- conditions_oi[[4]]\n",
    "  \n",
    "  seu_diffexp@meta.data$condition <- factor(seu_diffexp@meta.data$condition, levels = conditions_oi)\n",
    "  \n",
    "  seu_diffexp\n",
    "}"
   ]
  },
  {
   "cell_type": "code",
   "execution_count": 6,
   "id": "c83d23fb",
   "metadata": {
    "vscode": {
     "languageId": "r"
    }
   },
   "outputs": [],
   "source": [
    "seu_diffexps <- map(combinations, prepare_data, seu = seu)\n",
    "names(seu_diffexps) <- combinations %>% map_chr(paste0, collapse = \"-\")\n",
    "\n",
    "write_rds(seu_diffexps, \"seu_diffexps.rds\")"
   ]
  },
  {
   "cell_type": "code",
   "execution_count": 7,
   "id": "c349bf91",
   "metadata": {
    "vscode": {
     "languageId": "r"
    }
   },
   "outputs": [
    {
     "data": {
      "text/plain": [
       "             \n",
       "              Cebpa Cebpa-Mycn Cebpa-Myog Cebpa-Pparg Mycn Mycn-Myog Mycn-Pparg\n",
       "  Cebpa         887          0          0          13    0         0          0\n",
       "  Cebpa-Mycn      1        403          0           0    2         0          0\n",
       "  Cebpa-Myog      0          0         43           0    0         0          0\n",
       "  Cebpa-Pparg     1          0          0          74    0         0          0\n",
       "  Mycn            0         65          0           0 3207         0          0\n",
       "  Mycn-Myog       0          0          0           0    0       184          0\n",
       "  Mycn-Pparg      0          0          0           0    0         0         99\n",
       "  Mycn-Runx2      0          0          0           0    3         0          0\n",
       "  Myog            0          0          2           0    0         0          0\n",
       "  Pparg           0          0          0           0    0         0          0\n",
       "  Pparg-Runx2     0          0          0           0    0         0          0\n",
       "  Runx2           0          0          0           0    0         0          0\n",
       "             \n",
       "              Mycn-Runx2 Myog Pparg Pparg-Runx2 Runx2\n",
       "  Cebpa                0    0     0           0     0\n",
       "  Cebpa-Mycn           0    0     0           0     0\n",
       "  Cebpa-Myog           0    1     0           0     0\n",
       "  Cebpa-Pparg          0    0     0           0     0\n",
       "  Mycn                 0    0     0           0     0\n",
       "  Mycn-Myog            0    0     0           0     0\n",
       "  Mycn-Pparg           0    0     0           0     0\n",
       "  Mycn-Runx2         513    0     0           0     2\n",
       "  Myog                 0  410     0           0     0\n",
       "  Pparg                0    0   311           4     0\n",
       "  Pparg-Runx2          0    0     0         382     3\n",
       "  Runx2                0    0     0          20  2231"
      ]
     },
     "metadata": {},
     "output_type": "display_data"
    },
    {
     "data": {
      "text/plain": [
       "             \n",
       "              Cebpa Cebpa-Mycn Cebpa-Myog Cebpa-Pparg   D0 Mycn Mycn-Myog\n",
       "  Cebpa         887          0          0          13    0    0         0\n",
       "  Cebpa-Mycn      1        403          0           0    0    2         0\n",
       "  Cebpa-Myog      0          0         43           0    0    0         0\n",
       "  Cebpa-Pparg     1          0          0          74    0    0         0\n",
       "  D0              0          0          0           0  467    0         0\n",
       "  Mycn            0         65          0           0    0 3207         0\n",
       "  Mycn-Myog       0          0          0           0    0    0       184\n",
       "  Mycn-Pparg      0          0          0           0    0    0         0\n",
       "  Mycn-Runx2      0          0          0           0    0    3         0\n",
       "  Myog            0          0          2           0    0    0         0\n",
       "  Pparg           0          0          0           0    0    0         0\n",
       "  Pparg-Runx2     0          0          0           0    0    0         0\n",
       "  Runx2           0          0          0           0    0    0         0\n",
       "             \n",
       "              Mycn-Pparg Mycn-Runx2 Myog Pparg Pparg-Runx2 Runx2\n",
       "  Cebpa                0          0    0     0           0     0\n",
       "  Cebpa-Mycn           0          0    0     0           0     0\n",
       "  Cebpa-Myog           0          0    1     0           0     0\n",
       "  Cebpa-Pparg          0          0    0     0           0     0\n",
       "  D0                   0          0    0     0           0     0\n",
       "  Mycn                 0          0    0     0           0     0\n",
       "  Mycn-Myog            0          0    0     0           0     0\n",
       "  Mycn-Pparg          99          0    0     0           0     0\n",
       "  Mycn-Runx2           0        513    0     0           0     2\n",
       "  Myog                 0          0  410     0           0     0\n",
       "  Pparg                0          0    0   311           4     0\n",
       "  Pparg-Runx2          0          0    0     0         382     3\n",
       "  Runx2                0          0    0     0          20  2231"
      ]
     },
     "metadata": {},
     "output_type": "display_data"
    }
   ],
   "source": [
    "metadatas <- map2_dfr(\n",
    "  names(seu_diffexps),\n",
    "  seu_diffexps,\n",
    "  function(combination_name, seu_diffexp) {seu_diffexp@meta.data %>%  as.data.frame() %>% mutate(combination = combination_name, condition = as.character(condition))\n",
    "})\n",
    "metadata <- metadatas %>% group_by(cell) %>% filter(row_number() == 1) %>% filter(condition != \"D0\")\n",
    "metadata <- metadata %>% select(cell, condition, vector1, vector2, logvector1, logvector2, adiposcore1, combination, TF)\n",
    "\n",
    "table(metadata$TF, metadata$condition)\n",
    "\n",
    "\n",
    "\n",
    "write.table(metadata, file.path(\"metadata.tsv\"), sep = \"\\t\")\n",
    "\n",
    "metadata2 <- metadatas %>% group_by(cell) %>% filter(row_number() == 1)\n",
    "table(metadata2$TF, metadata2$condition)\n"
   ]
  }
 ],
 "metadata": {
  "kernelspec": {
   "display_name": "R",
   "language": "R",
   "name": "ir"
  },
  "language_info": {
   "codemirror_mode": "r",
   "file_extension": ".r",
   "mimetype": "text/x-r-source",
   "name": "R",
   "pygments_lexer": "r",
   "version": "4.3.1"
  }
 },
 "nbformat": 4,
 "nbformat_minor": 5
}
