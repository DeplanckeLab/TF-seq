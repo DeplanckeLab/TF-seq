{
 "cells": [
  {
   "cell_type": "code",
   "execution_count": 18,
   "id": "d98ea173",
   "metadata": {
    "vscode": {
     "languageId": "r"
    }
   },
   "outputs": [],
   "source": [
    "library(Seurat)\n",
    "library(tidyverse)\n",
    "library(edgeR)\n",
    "library(ggplot2)\n",
    "library(viridis)\n",
    "\n",
    "source(\"functions-diffexp.R\")\n",
    "source(\"functions-combinations.R\")\n",
    "source(\"way_color.R\")"
   ]
  },
  {
   "cell_type": "code",
   "execution_count": 6,
   "id": "a00a4952",
   "metadata": {
    "vscode": {
     "languageId": "r"
    }
   },
   "outputs": [],
   "source": [
    "output_folder <- \"output\""
   ]
  },
  {
   "cell_type": "code",
   "execution_count": null,
   "id": "e71362d1",
   "metadata": {
    "vscode": {
     "languageId": "r"
    }
   },
   "outputs": [
    {
     "ename": "ERROR",
     "evalue": "Error: no slot of name \"meta.feature\" for this object of class \"Assay\"\n",
     "output_type": "error",
     "traceback": [
      "Error: no slot of name \"meta.feature\" for this object of class \"Assay\"\nTraceback:\n"
     ]
    }
   ],
   "source": [
    "linkages <- read_rds(file.path(output_folder, \"linkages.rds\"))\n",
    "seu_diffexps <- read_rds(\"seu_diffexps.rds\")\n",
    "enrichments <- read_rds(file.path(output_folder, \"enrichments.rds\"))\n",
    "\n",
    "data.annot <- seu_diffexps[[1]]@assays$RNA@meta.features"
   ]
  },
  {
   "cell_type": "code",
   "execution_count": 20,
   "id": "318c9834",
   "metadata": {
    "vscode": {
     "languageId": "r"
    }
   },
   "outputs": [],
   "source": [
    "plot_folder <- file.path(output_folder, \"unique\")\n",
    "if (!dir.exists(plot_folder)) {\n",
    "  dir.create(plot_folder, recursive = TRUE)\n",
    "}"
   ]
  },
  {
   "cell_type": "code",
   "execution_count": 22,
   "id": "24be6d14",
   "metadata": {
    "vscode": {
     "languageId": "r"
    }
   },
   "outputs": [
    {
     "data": {
      "text/html": [
       "<ol>\n",
       "\t<li><style>\n",
       ".list-inline {list-style: none; margin:0; padding: 0}\n",
       ".list-inline>li {display: inline-block}\n",
       ".list-inline>li:not(:last-child)::after {content: \"\\00b7\"; padding: 0 .5ex}\n",
       "</style>\n",
       "<ol class=list-inline><li>'Pparg'</li><li>'Runx2'</li></ol>\n",
       "</li>\n",
       "\t<li><style>\n",
       ".list-inline {list-style: none; margin:0; padding: 0}\n",
       ".list-inline>li {display: inline-block}\n",
       ".list-inline>li:not(:last-child)::after {content: \"\\00b7\"; padding: 0 .5ex}\n",
       "</style>\n",
       "<ol class=list-inline><li>'Cebpa'</li><li>'Pparg'</li></ol>\n",
       "</li>\n",
       "\t<li><style>\n",
       ".list-inline {list-style: none; margin:0; padding: 0}\n",
       ".list-inline>li {display: inline-block}\n",
       ".list-inline>li:not(:last-child)::after {content: \"\\00b7\"; padding: 0 .5ex}\n",
       "</style>\n",
       "<ol class=list-inline><li>'Cebpa'</li><li>'Mycn'</li></ol>\n",
       "</li>\n",
       "\t<li><style>\n",
       ".list-inline {list-style: none; margin:0; padding: 0}\n",
       ".list-inline>li {display: inline-block}\n",
       ".list-inline>li:not(:last-child)::after {content: \"\\00b7\"; padding: 0 .5ex}\n",
       "</style>\n",
       "<ol class=list-inline><li>'Cebpa'</li><li>'Myog'</li></ol>\n",
       "</li>\n",
       "\t<li><style>\n",
       ".list-inline {list-style: none; margin:0; padding: 0}\n",
       ".list-inline>li {display: inline-block}\n",
       ".list-inline>li:not(:last-child)::after {content: \"\\00b7\"; padding: 0 .5ex}\n",
       "</style>\n",
       "<ol class=list-inline><li>'Mycn'</li><li>'Myog'</li></ol>\n",
       "</li>\n",
       "\t<li><style>\n",
       ".list-inline {list-style: none; margin:0; padding: 0}\n",
       ".list-inline>li {display: inline-block}\n",
       ".list-inline>li:not(:last-child)::after {content: \"\\00b7\"; padding: 0 .5ex}\n",
       "</style>\n",
       "<ol class=list-inline><li>'Mycn'</li><li>'Runx2'</li></ol>\n",
       "</li>\n",
       "\t<li><style>\n",
       ".list-inline {list-style: none; margin:0; padding: 0}\n",
       ".list-inline>li {display: inline-block}\n",
       ".list-inline>li:not(:last-child)::after {content: \"\\00b7\"; padding: 0 .5ex}\n",
       "</style>\n",
       "<ol class=list-inline><li>'Mycn'</li><li>'Pparg'</li></ol>\n",
       "</li>\n",
       "</ol>\n"
      ],
      "text/latex": [
       "\\begin{enumerate}\n",
       "\\item \\begin{enumerate*}\n",
       "\\item 'Pparg'\n",
       "\\item 'Runx2'\n",
       "\\end{enumerate*}\n",
       "\n",
       "\\item \\begin{enumerate*}\n",
       "\\item 'Cebpa'\n",
       "\\item 'Pparg'\n",
       "\\end{enumerate*}\n",
       "\n",
       "\\item \\begin{enumerate*}\n",
       "\\item 'Cebpa'\n",
       "\\item 'Mycn'\n",
       "\\end{enumerate*}\n",
       "\n",
       "\\item \\begin{enumerate*}\n",
       "\\item 'Cebpa'\n",
       "\\item 'Myog'\n",
       "\\end{enumerate*}\n",
       "\n",
       "\\item \\begin{enumerate*}\n",
       "\\item 'Mycn'\n",
       "\\item 'Myog'\n",
       "\\end{enumerate*}\n",
       "\n",
       "\\item \\begin{enumerate*}\n",
       "\\item 'Mycn'\n",
       "\\item 'Runx2'\n",
       "\\end{enumerate*}\n",
       "\n",
       "\\item \\begin{enumerate*}\n",
       "\\item 'Mycn'\n",
       "\\item 'Pparg'\n",
       "\\end{enumerate*}\n",
       "\n",
       "\\end{enumerate}\n"
      ],
      "text/markdown": [
       "1. 1. 'Pparg'\n",
       "2. 'Runx2'\n",
       "\n",
       "\n",
       "\n",
       "2. 1. 'Cebpa'\n",
       "2. 'Pparg'\n",
       "\n",
       "\n",
       "\n",
       "3. 1. 'Cebpa'\n",
       "2. 'Mycn'\n",
       "\n",
       "\n",
       "\n",
       "4. 1. 'Cebpa'\n",
       "2. 'Myog'\n",
       "\n",
       "\n",
       "\n",
       "5. 1. 'Mycn'\n",
       "2. 'Myog'\n",
       "\n",
       "\n",
       "\n",
       "6. 1. 'Mycn'\n",
       "2. 'Runx2'\n",
       "\n",
       "\n",
       "\n",
       "7. 1. 'Mycn'\n",
       "2. 'Pparg'\n",
       "\n",
       "\n",
       "\n",
       "\n",
       "\n"
      ],
      "text/plain": [
       "[[1]]\n",
       "[1] \"Pparg\" \"Runx2\"\n",
       "\n",
       "[[2]]\n",
       "[1] \"Cebpa\" \"Pparg\"\n",
       "\n",
       "[[3]]\n",
       "[1] \"Cebpa\" \"Mycn\" \n",
       "\n",
       "[[4]]\n",
       "[1] \"Cebpa\" \"Myog\" \n",
       "\n",
       "[[5]]\n",
       "[1] \"Mycn\" \"Myog\"\n",
       "\n",
       "[[6]]\n",
       "[1] \"Mycn\"  \"Runx2\"\n",
       "\n",
       "[[7]]\n",
       "[1] \"Mycn\"  \"Pparg\"\n"
      ]
     },
     "metadata": {},
     "output_type": "display_data"
    },
    {
     "data": {
      "text/html": [
       "<style>\n",
       ".list-inline {list-style: none; margin:0; padding: 0}\n",
       ".list-inline>li {display: inline-block}\n",
       ".list-inline>li:not(:last-child)::after {content: \"\\00b7\"; padding: 0 .5ex}\n",
       "</style>\n",
       "<ol class=list-inline><li>'Cebpa'</li><li>'Mycn'</li></ol>\n"
      ],
      "text/latex": [
       "\\begin{enumerate*}\n",
       "\\item 'Cebpa'\n",
       "\\item 'Mycn'\n",
       "\\end{enumerate*}\n"
      ],
      "text/markdown": [
       "1. 'Cebpa'\n",
       "2. 'Mycn'\n",
       "\n",
       "\n"
      ],
      "text/plain": [
       "[1] \"Cebpa\" \"Mycn\" "
      ]
     },
     "metadata": {},
     "output_type": "display_data"
    },
    {
     "name": "stderr",
     "output_type": "stream",
     "text": [
      "Welcome to enrichR\n",
      "Checking connections ... \n",
      "\n",
      "Enrichr ... \n",
      "Connection is Live!\n",
      "\n",
      "FlyEnrichr ... \n",
      "Connection is Live!\n",
      "\n",
      "WormEnrichr ... \n",
      "Connection is Live!\n",
      "\n",
      "YeastEnrichr ... \n",
      "Connection is Live!\n",
      "\n",
      "FishEnrichr ... \n",
      "Connection is Live!\n",
      "\n",
      "OxEnrichr ... \n",
      "Connection is Live!\n",
      "\n",
      "Connection changed to https://maayanlab.cloud/Enrichr/\n",
      "\n",
      "Connection is Live!\n",
      "\n"
     ]
    },
    {
     "name": "stdout",
     "output_type": "stream",
     "text": [
      "Uploading data to Enrichr... Done.\n",
      "  Querying GO_Molecular_Function_2023... Done.\n",
      "  Querying GO_Cellular_Component_2023... Done.\n",
      "  Querying GO_Biological_Process_2023... Done.\n",
      "  Querying PanglaoDB_Augmented_2021... Done.\n",
      "Parsing results... Done.\n"
     ]
    },
    {
     "name": "stderr",
     "output_type": "stream",
     "text": [
      "Connection changed to https://maayanlab.cloud/Enrichr/\n",
      "\n",
      "Connection is Live!\n",
      "\n"
     ]
    },
    {
     "name": "stdout",
     "output_type": "stream",
     "text": [
      "Uploading data to Enrichr... Done.\n",
      "  Querying GO_Molecular_Function_2023... Done.\n",
      "  Querying GO_Cellular_Component_2023... Done.\n",
      "  Querying GO_Biological_Process_2023... Done.\n",
      "  Querying PanglaoDB_Augmented_2021... Done.\n",
      "Parsing results... Done.\n"
     ]
    },
    {
     "name": "stderr",
     "output_type": "stream",
     "text": [
      "Connection changed to https://maayanlab.cloud/Enrichr/\n",
      "\n",
      "Connection is Live!\n",
      "\n"
     ]
    },
    {
     "name": "stdout",
     "output_type": "stream",
     "text": [
      "Uploading data to Enrichr... Done.\n",
      "  Querying GO_Molecular_Function_2023... Done.\n",
      "  Querying GO_Cellular_Component_2023... Done.\n",
      "  Querying GO_Biological_Process_2023... Done.\n",
      "  Querying PanglaoDB_Augmented_2021... Done.\n",
      "Parsing results... Done.\n"
     ]
    },
    {
     "name": "stderr",
     "output_type": "stream",
     "text": [
      "Connection changed to https://maayanlab.cloud/Enrichr/\n",
      "\n",
      "Connection is Live!\n",
      "\n"
     ]
    },
    {
     "name": "stdout",
     "output_type": "stream",
     "text": [
      "Uploading data to Enrichr... Done.\n",
      "  Querying GO_Molecular_Function_2023... Done.\n",
      "  Querying GO_Cellular_Component_2023... Done.\n",
      "  Querying GO_Biological_Process_2023... Done.\n",
      "  Querying PanglaoDB_Augmented_2021... Done.\n",
      "Parsing results... Done.\n"
     ]
    }
   ],
   "source": [
    "combinations\n",
    "# combination_ix <- 5 # Mycn-Myog\n",
    "combination_ix <- 3 # Cebpa-Mycn\n",
    "# combination_ix <- 2 #Cebpa-Pparg\n",
    "# combination_ix <- 6\n",
    "combination <- combinations[[combination_ix]]\n",
    "combination\n",
    "for (combination_ix in c(2, 3, 5, 6)) {\n",
    "  combination <- combinations[[combination_ix]]\n",
    "  linkage <- linkages[[combination_ix]]\n",
    "  seu_diffexp <- seu_diffexps[[combination_ix]]\n",
    "  enrichment <- enrichments[[combination_ix]]\n",
    "  condition_oi <- paste0(combination[[1]], \"-\", combination[[2]])\n",
    "  \n",
    "  cells_oi <- linkage %>% \n",
    "    filter(condition_from == condition_oi) %>% \n",
    "    group_by(cell_from) %>% \n",
    "    summarize(percentage = mean(condition_to == condition_oi)) %>% \n",
    "    filter(percentage >= 0.5) %>% \n",
    "    pull(cell_from)\n",
    "  length(cells_oi)\n",
    "  \n",
    "  cells_ref <- map(combination, function(tf) {\n",
    "    dosage_oi <- log1p(seu_diffexp@assays$oeumi@counts[tf,cells_oi])\n",
    "    cells_ref_all <- linkage %>% filter(condition_from == tf) %>% pull(cell_from) %>% unique()\n",
    "    dosage_ref_all <- log1p(seu_diffexp@assays$oeumi@counts[tf,cells_ref_all])\n",
    "    library(FNN)\n",
    "    knn <- knnx.index(dosage_ref_all, dosage_oi, k = 10)\n",
    "    cells_ref <- unique(names(dosage_ref_all)[knn])\n",
    "  }) %>% unlist() %>% unique()\n",
    "  seu_diffexp$oi <- seu_diffexp$cell %in% cells_oi\n",
    "  seu_diffexp$ref <- seu_diffexp$cell %in% cells_ref\n",
    "  DimPlot(seu_diffexp, group.by = c(\"condition\", \"ref\", \"oi\"))\n",
    "  \n",
    "  markers_ <- map(combination, function(tf) {\n",
    "    dosage_oi <- log1p(seu_diffexp@assays$oeumi@counts[tf,cells_oi])\n",
    "    cells_ref_all <- linkage %>% filter(condition_from == tf) %>% pull(cell_from) %>% unique()\n",
    "    dosage_ref_all <- log1p(seu_diffexp@assays$oeumi@counts[tf,cells_ref_all])\n",
    "    library(FNN)\n",
    "    knn <- knnx.index(dosage_ref_all, dosage_oi, k = 10)\n",
    "    cells_ref <- unique(names(dosage_ref_all)[knn])\n",
    "    \n",
    "    markers <- FindMarkers(seu_diffexp, ident.1 = cells_oi, ident.2 = cells_ref, logfc.threshold = 0.0)\n",
    "    markers %>% mutate(tf = tf) %>% tibble::rownames_to_column(\"gene\")\n",
    "  })\n",
    "  \n",
    "  markers <- full_join(markers_[[1]], markers_[[2]], by = \"gene\", suffix = c(\"_tf1\", \"_tf2\"))\n",
    "  markers <- markers %>% filter(!is.na(avg_log2FC_tf1) & !is.na(avg_log2FC_tf2))\n",
    "  \n",
    "  markers$significant_1 <- (markers$p_val_adj_tf1 < 5e-2) & (abs(markers$avg_log2FC_tf1) > log(1.5))\n",
    "  markers$significant_2 <- (markers$p_val_adj_tf2 < 5e-2) & (abs(markers$avg_log2FC_tf2) > log(1.5))\n",
    "  gsub_combination <- function(text, combination) {\n",
    "    text = gsub(\"TF1\", toupper(combination[[1]]), text)\n",
    "    text = gsub(\"TF2\", toupper(combination[[2]]), text)\n",
    "  }\n",
    "  markers$group_ix <- ifelse(\n",
    "    markers$significant_1 & markers$significant_2,\n",
    "    4,\n",
    "    ifelse(\n",
    "      markers$significant_1,\n",
    "      2,\n",
    "      ifelse(\n",
    "        markers$significant_2,\n",
    "        3,\n",
    "        1\n",
    "      )\n",
    "    )\n",
    "  )\n",
    "  groups <- c(\n",
    "    \"not differential\",\n",
    "    \"TF1+TF2 vs TF1\" %>% gsub_combination(combination),\n",
    "    \"TF1+TF2 vs TF2\"  %>% gsub_combination(combination),\n",
    "    \"TF1+TF2 vs TF1 and TF1+TF2 vs TF2\" %>% gsub_combination(combination)\n",
    "  )\n",
    "  markers$group <- factor(groups[markers$group_ix], levels = groups)\n",
    "  \n",
    "  lim <- 3\n",
    "  plotdata <- markers %>% mutate(x = pmax(pmin(avg_log2FC_tf1, lim), -lim), y = pmax(pmin(avg_log2FC_tf2, lim), -lim))\n",
    "  plotdata$symbol <- data.annot %>% dplyr::slice(match(plotdata$gene, gene)) %>% pull(symbol)\n",
    "  plotdata_oi <- bind_rows(\n",
    "    plotdata %>% filter(x > 0, y > 0) %>% filter(significant_1 & significant_2) %>% filter(!stringr::str_starts(symbol, \"Gm\")) %>% filter(!stringr::str_starts(symbol, \"Fam\")) %>% arrange(desc(x*y)) %>% head(5),\n",
    "    plotdata %>% filter(x < 0, y < 0) %>% filter(significant_1 & significant_2) %>% filter(!stringr::str_starts(symbol, \"Gm\")) %>% filter(!stringr::str_starts(symbol, \"Fam\")) %>% arrange(desc(x*y)) %>% head(5)\n",
    "  )\n",
    "  \n",
    "  plot <- ggplot(plotdata) + geom_point(aes(x, y, color = group)) + \n",
    "    scale_color_manual(values = setNames(c(fourway_colors[1], fourway_colors[3], fourway_colors[2], \"orange\"), groups), name = NULL) +\n",
    "    ggrepel::geom_label_repel(aes(x, y, label = symbol), data = plotdata_oi, fill = \"#FFFFFF99\") +\n",
    "    scale_x_continuous(name = \"log2 fold-change TF1+TF2 vs TF1\" %>% gsub_combination(combination), limit = c(-lim, lim)) +\n",
    "    scale_y_continuous(name = \"log2 fold-change TF1+TF2 vs TF2\" %>% gsub_combination(combination), limit = c(-lim, lim)) +\n",
    "    theme_classic() +\n",
    "    theme(legend.position=\"None\") +\n",
    "    # guides(color=guide_legend(ncol=3, nrow = 2)) +\n",
    "    geom_vline(xintercept = 0, linetype = \"dashed\") +\n",
    "    geom_hline(yintercept = 0, linetype = \"dashed\") +\n",
    "    coord_equal() +\n",
    "    ggtitle(paste0(toupper(combination[[1]]), \"+\", toupper(combination[[2]])))\n",
    "  plot\n",
    "  ggsave(file.path(plot_folder, paste0(condition_oi, \".pdf\")), width = 5, height = 5, plot = plot)\n",
    "  \n",
    "  # enrichment\n",
    "  markers_oi <- markers %>% \n",
    "    filter(\n",
    "      (markers$p_val_adj_tf1 < 5e-2) & \n",
    "      (abs(markers$avg_log2FC_tf1) > log(1.5)) & \n",
    "     (markers$p_val_adj_tf1 < 5e-2) & \n",
    "     (abs(markers$avg_log2FC_tf1) > log(1.5))\n",
    "    )\n",
    "  \n",
    "  features_oi <- markers_oi %>% filter(avg_log2FC_tf2 > 0) %>% arrange(desc(avg_log2FC_tf2*avg_log2FC_tf1)) %>% pull(gene)\n",
    "  length(features_oi)\n",
    "  FeaturePlot(\n",
    "    seu_diffexp,\n",
    "    features = features_oi %>% head(10)\n",
    "  )\n",
    "  \n",
    "  symbols_oi <- data.annot %>% dplyr::slice(match(features_oi, gene)) %>% pull(symbol)\n",
    "  symbols_oi %>% head(10)\n",
    "  \n",
    "  library(enrichR)\n",
    "  websiteLive <- getOption(\"enrichR.live\")\n",
    "  setEnrichrSite(\"Enrichr\") # Human genes   \n",
    "  \n",
    "  dbs <- listEnrichrDbs()\n",
    "  dbs <- c(\"GO_Molecular_Function_2023\", \"GO_Cellular_Component_2023\", \"GO_Biological_Process_2023\", \"PanglaoDB_Augmented_2021\")\n",
    "  enriched <- enrichr(symbols_oi, dbs)\n",
    "  \n",
    "  enriched$GO_Biological_Process_2023 %>% arrange(-Combined.Score) %>% head(30)\n",
    "  enriched$PanglaoDB_Augmented_2021 %>% head(30)\n",
    "  \n",
    "  adipo_markers <-  c(\"Fabp4\", \"Lpl\", \"Pparg\", \"Lipe\", \"Adipoq\", \"Cd36\",\n",
    "                \"Plin4\", \"Plin2\", \"Plin1\", \"Cebpa\", \"Cebpb\",\n",
    "                \"Cidec\")\n",
    "  \n",
    "  a <- sum(symbols_oi %in% adipo_markers)\n",
    "  b <- length(symbols_oi) - a\n",
    "  c <- length(markers) - a\n",
    "  d <- nrow(plotdata)\n",
    "  \n",
    "  pval <- fisher.test(matrix(c(d, b, c, a), nrow = 2))\n",
    "  \n",
    "  \n",
    "  plot <- plotEnrich(enriched$GO_Biological_Process_2023, showTerms = 5, numChar = 40, y = \"Count\", orderBy = \"P.value\", title = paste0(condition_oi, \" GO BP enrichment\"))\n",
    "  ggsave(file.path(plot_folder, paste0(condition_oi, \"_enrichment_bp\", \".pdf\")), height = 2, width = 4)\n",
    "  \n",
    "  plot <- plotEnrich(enriched$PanglaoDB_Augmented_2021, showTerms = 5, numChar = 40, y = \"Count\", orderBy = \"Ratio\", title = paste0(condition_oi, \" PanglaoDB enrichment\"))\n",
    "  plot\n",
    "  ggsave(file.path(plot_folder, paste0(condition_oi, \"_enrichment_pan\", \".pdf\")), height = 2, width = 4)\n",
    "}"
   ]
  },
  {
   "cell_type": "code",
   "execution_count": null,
   "id": "8719142c",
   "metadata": {
    "vscode": {
     "languageId": "r"
    }
   },
   "outputs": [],
   "source": []
  }
 ],
 "metadata": {
  "kernelspec": {
   "display_name": "R",
   "language": "R",
   "name": "ir"
  },
  "language_info": {
   "codemirror_mode": "r",
   "file_extension": ".r",
   "mimetype": "text/x-r-source",
   "name": "R",
   "pygments_lexer": "r",
   "version": "4.3.1"
  }
 },
 "nbformat": 4,
 "nbformat_minor": 5
}
